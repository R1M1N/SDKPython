{
 "cells": [
  {
   "cell_type": "code",
   "execution_count": 2,
   "id": "a759a9e4",
   "metadata": {},
   "outputs": [],
   "source": [
    "api_key = \"bae97f.c2c6d941768f6673ebdbcaba85\"\n",
    "api_secret = \"eacea9bf3030999d9ef1ebbbdedcbfab5ecfcb0c762feb7505816c157e27dd7b\"\n",
    "client_id = \"13849\"\n",
    "project_id = 'inessa_yummy_bedbug_15490'\n",
    "# choose scope from SCOPE_LIST=['project','client','public']\n",
    "scope = 'client'"
   ]
  },
  {
   "cell_type": "markdown",
   "id": "83a64ed7",
   "metadata": {},
   "source": [
    "# Retrieving All Datasets"
   ]
  },
  {
   "cell_type": "code",
   "execution_count": 3,
   "id": "75fba985",
   "metadata": {},
   "outputs": [
    {
     "name": "stdout",
     "output_type": "stream",
     "text": [
      "Found 10 linked datasets:\n",
      "- Dataset ID: 86d5042d-c44b-4901-9c8e-f15a4d64cbd9\n",
      "  Name: New_dataset\n",
      "  Description: A sample dataset for image classification\n",
      "- Dataset ID: 7cf1c0a5-be2e-4d4f-84a9-204d26cb0202\n",
      "  Name: New_dataset\n",
      "  Description: A sample dataset for image classification\n",
      "- Dataset ID: a4f90a19-5786-4646-b57d-2441a9f29d84\n",
      "  Name: New_dataset\n",
      "  Description: A sample dataset for image classification\n",
      "- Dataset ID: 2afb231a-e64c-4827-ad46-bc704982a36b\n",
      "  Name: New_dataset\n",
      "  Description: A sample dataset for image classification\n",
      "- Dataset ID: c7eb0910-7fea-443d-8079-c3897e656fc2\n",
      "  Name: New_dataset\n",
      "  Description: A sample dataset for image classification\n",
      "- Dataset ID: bbd46149-a851-4fc4-96bc-5f61c5a0b7a7\n",
      "  Name: New_dataset\n",
      "  Description: A sample dataset for image classification\n",
      "- Dataset ID: 3d558376-daf2-4503-8bec-1eb0c2ba10a1\n",
      "  Name: New_dataset\n",
      "  Description: A sample dataset for image classification\n",
      "- Dataset ID: 88467a7c-627f-4066-88ec-1a1c796b55d1\n",
      "  Name: New_dataset\n",
      "  Description: A sample dataset for image classification\n",
      "- Dataset ID: 51cd6a50-04c8-4d3d-8cb7-5c57f9af2ec5\n",
      "  Name: New_dataset\n",
      "  Description: A sample dataset for image classification\n",
      "- Dataset ID: b76f2bd2-b852-46ad-931c-54803b78c261\n",
      "  Name: Image Classification Project\n",
      "  Description: A sample dataset for image classification\n"
     ]
    }
   ],
   "source": [
    "from labellerr.client import LabellerrClient\n",
    "from labellerr.exceptions import LabellerrError\n",
    "# Initialize the client with your API credentials\n",
    "client = LabellerrClient(api_key, api_secret)\n",
    "client_id = client_id\n",
    "data_type = 'image'\n",
    "\n",
    "try:\n",
    "    result = client.get_all_dataset(client_id, data_type, project_id, scope)\n",
    "    # Process linked datasets\n",
    "    linked_datasets = result[\"response\"][\"datasets\"]\n",
    "    # print(linked_datasets[\"datasets\"][0][\"dataset_id\"])\n",
    "    print(f\"Found {len(linked_datasets)} linked datasets:\")\n",
    "    for dataset in linked_datasets:\n",
    "        # print(dataset[\"datasets\"])\n",
    "        print(f\"- Dataset ID: {dataset.get('dataset_id')}\")\n",
    "        print(f\"  Name: {dataset.get('name')}\")\n",
    "        print(f\"  Description: {dataset.get('description')}\")\n",
    "\n",
    "except LabellerrError as e:\n",
    "    print(f\"Failed to retrieve datasets: {str(e)}\")"
   ]
  },
  {
   "cell_type": "markdown",
   "id": "a5135ce1",
   "metadata": {},
   "source": [
    "# Retrieving All Projects for a Client\n",
    "\n",
    "Navigate to the get_all_project_per_client_id function and comment the print statement"
   ]
  },
  {
   "cell_type": "code",
   "execution_count": 4,
   "id": "23a02466",
   "metadata": {},
   "outputs": [
    {
     "name": "stdout",
     "output_type": "stream",
     "text": [
      "Found 2 projects:\n",
      "- Project ID: inessa_yummy_bedbug_15490\n",
      "  Name: vehicle-identification\n",
      "  Type: image\n",
      "- Project ID: shayna_meaningful_skunk_39599\n",
      "  Name: Detect-Seg-Vehicles\n",
      "  Type: image\n"
     ]
    }
   ],
   "source": [
    "from labellerr.client import LabellerrClient\n",
    "from labellerr.exceptions import LabellerrError\n",
    "# Initialize the client with your API credentials\n",
    "client = LabellerrClient(api_key, api_secret)\n",
    "client_id = client_id\n",
    "try:\n",
    "    result = client.get_all_project_per_client_id(client_id)\n",
    "  \n",
    "    # Check if projects were retrieved successfully\n",
    "    if result and 'response' in result:\n",
    "        projects = result['response']\n",
    "        print(f\"Found {len(projects)} projects:\")\n",
    "        for project in projects:\n",
    "            print(f\"- Project ID: {project.get('project_id')}\")\n",
    "            print(f\"  Name: {project.get('project_name')}\")\n",
    "            print(f\"  Type: {project.get('data_type')}\")\n",
    "except LabellerrError as e:\n",
    "    print(f\"Failed to retrieve projects: {str(e)}\")"
   ]
  },
  {
   "cell_type": "markdown",
   "id": "598e875b",
   "metadata": {},
   "source": [
    "# Local Export\n",
    "Replaced the result['response']['report_id']"
   ]
  },
  {
   "cell_type": "code",
   "execution_count": 5,
   "id": "bb35790a",
   "metadata": {},
   "outputs": [
    {
     "name": "stdout",
     "output_type": "stream",
     "text": [
      "Local export created successfully. Export ID: 6I15XaCZYf48TI2ti3Kh\n"
     ]
    }
   ],
   "source": [
    "from labellerr.client import LabellerrClient\n",
    "from labellerr.exceptions import LabellerrError\n",
    "# Initialize the client with your API credentials\n",
    "client = LabellerrClient(api_key, api_secret)\n",
    "project_id = project_id\n",
    "client_id = client_id\n",
    "export_config = {\n",
    "    \"export_name\": \"Weekly Export\",\n",
    "    \"export_description\": \"Export of all accepted annotations\",\n",
    "    \"export_format\": \"json\",\n",
    "    \"statuses\": ['review', 'r_assigned','client_review', 'cr_assigned','accepted']\n",
    "}\n",
    "try:\n",
    "    result = client.create_local_export(project_id, client_id, export_config)\n",
    "    print(f\"Local export created successfully. Export ID: {result['response']['report_id']}\")\n",
    "except LabellerrError as e:\n",
    "    print(f\"Local export creation failed: {str(e)}\")"
   ]
  },
  {
   "cell_type": "markdown",
   "id": "4982672c",
   "metadata": {},
   "source": [
    "# Creating Project\n",
    "Updated the two functions create_project and intialize project"
   ]
  },
  {
   "cell_type": "code",
   "execution_count": 15,
   "id": "a1bd1fa5",
   "metadata": {},
   "outputs": [
    {
     "name": "stdout",
     "output_type": "stream",
     "text": [
      "Rotation configuration validated . . .\n",
      "Creating dataset . . .\n",
      "Total file count: 45\n",
      "Total file size: 2.1 MB\n",
      "CPU count 32  Batch Count 1\n"
     ]
    },
    {
     "name": "stderr",
     "output_type": "stream",
     "text": [
      "WARNING:root:Polling timed out after 60 seconds (12 attempts)\n"
     ]
    },
    {
     "name": "stdout",
     "output_type": "stream",
     "text": [
      "Dataset created and ready for use\n",
      "Annotation guidelines created\n",
      "Project created successfully. Project ID: alysia_used_ocelot_87865\n"
     ]
    }
   ],
   "source": [
    "from labellerr.client import LabellerrClient\n",
    "from labellerr.exceptions import LabellerrError\n",
    "# Initialize the client with your API credentials\n",
    "client = LabellerrClient(api_key, api_secret)\n",
    "project_payload = {\n",
    "    'client_id': client_id,\n",
    "    'dataset_name': 'New_dataset',\n",
    "    'dataset_description': 'A sample dataset for image classification',\n",
    "    'data_type': 'image',\n",
    "    'created_by': api_key,\n",
    "    'project_name': 'Image Classification Project',\n",
    "    'annotation_guide': [\n",
    "        {\n",
    "            \"question_number\": 1,\n",
    "            \"question\": \"What is the main object in the image?\",\n",
    "            \"question_id\": \"533bb0c8-fb2b-4394-a8e1-5042a944802f\",\n",
    "            \"option_type\": \"dropdown\",\n",
    "            \"required\": True,\n",
    "            \"options\": [\n",
    "                {\"option_name\": \"Car\"},\n",
    "                {\"option_name\": \"Building\"},\n",
    "                {\"option_name\": \"Person\"}\n",
    "            ]\n",
    "        }\n",
    "    ],\n",
    "    'rotation_config': {\n",
    "        'annotation_rotation_count': 1,\n",
    "        'review_rotation_count': 1,\n",
    "        'client_review_rotation_count': 1\n",
    "    },\n",
    "    'autolabel': False,\n",
    "    'folder_to_upload': '/home/siya/testing/SDKPython/downloaded_images'\n",
    "}\n",
    "try:\n",
    "    result = client.initiate_create_project(project_payload)\n",
    "    print(f\"Project created successfully. Project ID: {result['project_id']['response']['project_id']}\")\n",
    "except LabellerrError as e:\n",
    "    print(f\"Project creation failed: {str(e)}\")"
   ]
  },
  {
   "cell_type": "markdown",
   "id": "ae355244",
   "metadata": {},
   "source": [
    "# Using Preannotations"
   ]
  },
  {
   "cell_type": "code",
   "execution_count": 14,
   "id": "92a862f4",
   "metadata": {},
   "outputs": [
    {
     "name": "stdout",
     "output_type": "stream",
     "text": [
      "response_data --  {'message': '200: Success', 'response': {'job_id': 'e8673d54-b183-4237-8c9f-6c853eaf4a31'}, 'error': None}\n",
      "Preannotation upload successful. Job ID: e8673d54-b183-4237-8c9f-6c853eaf4a31\n",
      "retrying after 5 seconds . . .\n",
      "retrying after 5 seconds . . .\n",
      "retrying after 5 seconds . . .\n",
      "retrying after 5 seconds . . .\n",
      "retrying after 5 seconds . . .\n",
      "retrying after 5 seconds . . .\n",
      "retrying after 5 seconds . . .\n",
      "retrying after 5 seconds . . .\n",
      "retrying after 5 seconds . . .\n",
      "retrying after 5 seconds . . .\n",
      "retrying after 5 seconds . . .\n",
      "retrying after 5 seconds . . .\n",
      "retrying after 5 seconds . . .\n",
      "retrying after 5 seconds . . .\n",
      "retrying after 5 seconds . . .\n",
      "retrying after 5 seconds . . .\n",
      "retrying after 5 seconds . . .\n"
     ]
    },
    {
     "ename": "KeyboardInterrupt",
     "evalue": "",
     "output_type": "error",
     "traceback": [
      "\u001b[0;31m---------------------------------------------------------------------------\u001b[0m",
      "\u001b[0;31mKeyboardInterrupt\u001b[0m                         Traceback (most recent call last)",
      "Cell \u001b[0;32mIn[14], line 11\u001b[0m\n\u001b[1;32m      8\u001b[0m annotation_file \u001b[38;5;241m=\u001b[39m \u001b[38;5;124m'\u001b[39m\u001b[38;5;124m/home/siya/testing/new-export.json\u001b[39m\u001b[38;5;124m'\u001b[39m\n\u001b[1;32m      9\u001b[0m \u001b[38;5;28;01mtry\u001b[39;00m:\n\u001b[1;32m     10\u001b[0m     \u001b[38;5;66;03m# Upload and wait for processing to complete\u001b[39;00m\n\u001b[0;32m---> 11\u001b[0m     result \u001b[38;5;241m=\u001b[39m \u001b[43mclient\u001b[49m\u001b[38;5;241;43m.\u001b[39;49m\u001b[43mupload_preannotation_by_project_id\u001b[49m\u001b[43m(\u001b[49m\u001b[43mproject_id\u001b[49m\u001b[43m,\u001b[49m\u001b[43m \u001b[49m\u001b[43mclient_id\u001b[49m\u001b[43m,\u001b[49m\u001b[43m \u001b[49m\u001b[43mannotation_format\u001b[49m\u001b[43m,\u001b[49m\u001b[43m \u001b[49m\u001b[43mannotation_file\u001b[49m\u001b[43m)\u001b[49m\n\u001b[1;32m     13\u001b[0m     \u001b[38;5;66;03m# Check the final status\u001b[39;00m\n\u001b[1;32m     14\u001b[0m     \u001b[38;5;28;01mif\u001b[39;00m result[\u001b[38;5;124m'\u001b[39m\u001b[38;5;124mresponse\u001b[39m\u001b[38;5;124m'\u001b[39m][\u001b[38;5;124m'\u001b[39m\u001b[38;5;124mstatus\u001b[39m\u001b[38;5;124m'\u001b[39m] \u001b[38;5;241m==\u001b[39m \u001b[38;5;124m'\u001b[39m\u001b[38;5;124mcompleted\u001b[39m\u001b[38;5;124m'\u001b[39m:\n",
      "File \u001b[0;32m~/testing/SDKPython/labellerr/client.py:823\u001b[0m, in \u001b[0;36mupload_preannotation_by_project_id\u001b[0;34m(self, project_id, client_id, annotation_format, annotation_file)\u001b[0m\n\u001b[1;32m      0\u001b[0m <Error retrieving source code with stack_data see ipython/ipython#13598>\n",
      "File \u001b[0;32m~/testing/SDKPython/labellerr/client.py:764\u001b[0m, in \u001b[0;36mpreannotation_job_status_async\u001b[0;34m(self)\u001b[0m\n\u001b[1;32m      0\u001b[0m <Error retrieving source code with stack_data see ipython/ipython#13598>\n",
      "File \u001b[0;32m~/miniconda3/envs/sdk/lib/python3.10/concurrent/futures/_base.py:649\u001b[0m, in \u001b[0;36mExecutor.__exit__\u001b[0;34m(self, exc_type, exc_val, exc_tb)\u001b[0m\n\u001b[1;32m    648\u001b[0m \u001b[38;5;28;01mdef\u001b[39;00m\u001b[38;5;250m \u001b[39m\u001b[38;5;21m__exit__\u001b[39m(\u001b[38;5;28mself\u001b[39m, exc_type, exc_val, exc_tb):\n\u001b[0;32m--> 649\u001b[0m     \u001b[38;5;28;43mself\u001b[39;49m\u001b[38;5;241;43m.\u001b[39;49m\u001b[43mshutdown\u001b[49m\u001b[43m(\u001b[49m\u001b[43mwait\u001b[49m\u001b[38;5;241;43m=\u001b[39;49m\u001b[38;5;28;43;01mTrue\u001b[39;49;00m\u001b[43m)\u001b[49m\n\u001b[1;32m    650\u001b[0m     \u001b[38;5;28;01mreturn\u001b[39;00m \u001b[38;5;28;01mFalse\u001b[39;00m\n",
      "File \u001b[0;32m~/miniconda3/envs/sdk/lib/python3.10/concurrent/futures/thread.py:235\u001b[0m, in \u001b[0;36mThreadPoolExecutor.shutdown\u001b[0;34m(self, wait, cancel_futures)\u001b[0m\n\u001b[1;32m    233\u001b[0m \u001b[38;5;28;01mif\u001b[39;00m wait:\n\u001b[1;32m    234\u001b[0m     \u001b[38;5;28;01mfor\u001b[39;00m t \u001b[38;5;129;01min\u001b[39;00m \u001b[38;5;28mself\u001b[39m\u001b[38;5;241m.\u001b[39m_threads:\n\u001b[0;32m--> 235\u001b[0m         \u001b[43mt\u001b[49m\u001b[38;5;241;43m.\u001b[39;49m\u001b[43mjoin\u001b[49m\u001b[43m(\u001b[49m\u001b[43m)\u001b[49m\n",
      "File \u001b[0;32m~/miniconda3/envs/sdk/lib/python3.10/threading.py:1096\u001b[0m, in \u001b[0;36mThread.join\u001b[0;34m(self, timeout)\u001b[0m\n\u001b[1;32m   1093\u001b[0m     \u001b[38;5;28;01mraise\u001b[39;00m \u001b[38;5;167;01mRuntimeError\u001b[39;00m(\u001b[38;5;124m\"\u001b[39m\u001b[38;5;124mcannot join current thread\u001b[39m\u001b[38;5;124m\"\u001b[39m)\n\u001b[1;32m   1095\u001b[0m \u001b[38;5;28;01mif\u001b[39;00m timeout \u001b[38;5;129;01mis\u001b[39;00m \u001b[38;5;28;01mNone\u001b[39;00m:\n\u001b[0;32m-> 1096\u001b[0m     \u001b[38;5;28;43mself\u001b[39;49m\u001b[38;5;241;43m.\u001b[39;49m\u001b[43m_wait_for_tstate_lock\u001b[49m\u001b[43m(\u001b[49m\u001b[43m)\u001b[49m\n\u001b[1;32m   1097\u001b[0m \u001b[38;5;28;01melse\u001b[39;00m:\n\u001b[1;32m   1098\u001b[0m     \u001b[38;5;66;03m# the behavior of a negative timeout isn't documented, but\u001b[39;00m\n\u001b[1;32m   1099\u001b[0m     \u001b[38;5;66;03m# historically .join(timeout=x) for x<0 has acted as if timeout=0\u001b[39;00m\n\u001b[1;32m   1100\u001b[0m     \u001b[38;5;28mself\u001b[39m\u001b[38;5;241m.\u001b[39m_wait_for_tstate_lock(timeout\u001b[38;5;241m=\u001b[39m\u001b[38;5;28mmax\u001b[39m(timeout, \u001b[38;5;241m0\u001b[39m))\n",
      "File \u001b[0;32m~/miniconda3/envs/sdk/lib/python3.10/threading.py:1116\u001b[0m, in \u001b[0;36mThread._wait_for_tstate_lock\u001b[0;34m(self, block, timeout)\u001b[0m\n\u001b[1;32m   1113\u001b[0m     \u001b[38;5;28;01mreturn\u001b[39;00m\n\u001b[1;32m   1115\u001b[0m \u001b[38;5;28;01mtry\u001b[39;00m:\n\u001b[0;32m-> 1116\u001b[0m     \u001b[38;5;28;01mif\u001b[39;00m \u001b[43mlock\u001b[49m\u001b[38;5;241;43m.\u001b[39;49m\u001b[43macquire\u001b[49m\u001b[43m(\u001b[49m\u001b[43mblock\u001b[49m\u001b[43m,\u001b[49m\u001b[43m \u001b[49m\u001b[43mtimeout\u001b[49m\u001b[43m)\u001b[49m:\n\u001b[1;32m   1117\u001b[0m         lock\u001b[38;5;241m.\u001b[39mrelease()\n\u001b[1;32m   1118\u001b[0m         \u001b[38;5;28mself\u001b[39m\u001b[38;5;241m.\u001b[39m_stop()\n",
      "\u001b[0;31mKeyboardInterrupt\u001b[0m: "
     ]
    },
    {
     "name": "stdout",
     "output_type": "stream",
     "text": [
      "retrying after 5 seconds . . .\n",
      "retrying after 5 seconds . . ."
     ]
    },
    {
     "name": "stderr",
     "output_type": "stream",
     "text": [
      "ERROR:root:Failed to get preannotation job status: Socket operation on non-socket\n",
      "--- Logging error ---\n",
      "Traceback (most recent call last):\n",
      "  File \"/home/siya/testing/SDKPython/labellerr/client.py\", line 757, in check_status\n",
      "  File \"/home/siya/.local/lib/python3.10/site-packages/ipykernel/iostream.py\", line 694, in write\n",
      "    self._schedule_flush()\n",
      "  File \"/home/siya/.local/lib/python3.10/site-packages/ipykernel/iostream.py\", line 590, in _schedule_flush\n",
      "    self.pub_thread.schedule(_schedule_in_thread)\n",
      "  File \"/home/siya/.local/lib/python3.10/site-packages/ipykernel/iostream.py\", line 267, in schedule\n",
      "    self._event_pipe.send(b\"\")\n",
      "  File \"/home/siya/.local/lib/python3.10/site-packages/zmq/sugar/socket.py\", line 698, in send\n",
      "    return super().send(data, flags=flags, copy=copy, track=track)\n",
      "  File \"zmq/backend/cython/_zmq.py\", line 1137, in zmq.backend.cython._zmq.Socket.send\n",
      "  File \"zmq/backend/cython/_zmq.py\", line 1179, in zmq.backend.cython._zmq.Socket.send\n",
      "  File \"zmq/backend/cython/_zmq.py\", line 1324, in zmq.backend.cython._zmq._check_closed\n",
      "zmq.error.ZMQError: Socket operation on non-socket\n",
      "\n",
      "During handling of the above exception, another exception occurred:\n",
      "\n",
      "Traceback (most recent call last):\n",
      "  File \"/home/siya/miniconda3/envs/sdk/lib/python3.10/logging/__init__.py\", line 1103, in emit\n",
      "    stream.write(msg + self.terminator)\n",
      "  File \"/home/siya/.local/lib/python3.10/site-packages/ipykernel/iostream.py\", line 694, in write\n",
      "    self._schedule_flush()\n",
      "  File \"/home/siya/.local/lib/python3.10/site-packages/ipykernel/iostream.py\", line 590, in _schedule_flush\n",
      "    self.pub_thread.schedule(_schedule_in_thread)\n",
      "  File \"/home/siya/.local/lib/python3.10/site-packages/ipykernel/iostream.py\", line 267, in schedule\n",
      "    self._event_pipe.send(b\"\")\n",
      "  File \"/home/siya/.local/lib/python3.10/site-packages/zmq/sugar/socket.py\", line 698, in send\n",
      "    return super().send(data, flags=flags, copy=copy, track=track)\n",
      "  File \"zmq/backend/cython/_zmq.py\", line 1137, in zmq.backend.cython._zmq.Socket.send\n",
      "  File \"zmq/backend/cython/_zmq.py\", line 1179, in zmq.backend.cython._zmq.Socket.send\n",
      "  File \"zmq/backend/cython/_zmq.py\", line 1324, in zmq.backend.cython._zmq._check_closed\n",
      "zmq.error.ZMQError: Socket operation on non-socket\n",
      "Call stack:\n",
      "  File \"/home/siya/miniconda3/envs/sdk/lib/python3.10/threading.py\", line 973, in _bootstrap\n",
      "    self._bootstrap_inner()\n",
      "  File \"/home/siya/miniconda3/envs/sdk/lib/python3.10/threading.py\", line 1016, in _bootstrap_inner\n",
      "    self.run()\n",
      "  File \"/home/siya/.local/lib/python3.10/site-packages/ipykernel/ipkernel.py\", line 766, in run_closure\n",
      "    _threading_Thread_run(self)\n",
      "  File \"/home/siya/miniconda3/envs/sdk/lib/python3.10/threading.py\", line 953, in run\n",
      "    self._target(*self._args, **self._kwargs)\n",
      "  File \"/home/siya/miniconda3/envs/sdk/lib/python3.10/concurrent/futures/thread.py\", line 83, in _worker\n",
      "    work_item.run()\n",
      "  File \"/home/siya/miniconda3/envs/sdk/lib/python3.10/concurrent/futures/thread.py\", line 58, in run\n",
      "    result = self.fn(*self.args, **self.kwargs)\n",
      "  File \"/home/siya/testing/SDKPython/labellerr/client.py\", line 761, in check_status\n",
      "    except Exception as e:\n",
      "Message: 'Failed to get preannotation job status: Socket operation on non-socket'\n",
      "Arguments: ()\n"
     ]
    }
   ],
   "source": [
    "from labellerr.client import LabellerrClient\n",
    "from labellerr.exceptions import LabellerrError\n",
    "# Initialize the client with your API credentials\n",
    "client = LabellerrClient(api_key, api_secret)\n",
    "project_id = project_id\n",
    "client_id = client_id\n",
    "annotation_format = 'json'\n",
    "annotation_file = '/home/siya/testing/new-export.json'\n",
    "try:\n",
    "    # Upload and wait for processing to complete\n",
    "    result = client.upload_preannotation_by_project_id(project_id, client_id, annotation_format, annotation_file)\n",
    "  \n",
    "    # Check the final status\n",
    "    if result['response']['status'] == 'completed':\n",
    "        print(\"Pre-annotations processed successfully\")\n",
    "        # Access additional metadata if needed\n",
    "        metadata = result\n",
    "        print(\"metadata\",metadata)\n",
    "except LabellerrError as e:\n",
    "    print(f\"Pre-annotation upload failed: {str(e)}\")\n",
    "\n"
   ]
  },
  {
   "cell_type": "code",
   "execution_count": null,
   "id": "4287d93e",
   "metadata": {},
   "outputs": [],
   "source": []
  }
 ],
 "metadata": {
  "kernelspec": {
   "display_name": "sdk",
   "language": "python",
   "name": "python3"
  },
  "language_info": {
   "codemirror_mode": {
    "name": "ipython",
    "version": 3
   },
   "file_extension": ".py",
   "mimetype": "text/x-python",
   "name": "python",
   "nbconvert_exporter": "python",
   "pygments_lexer": "ipython3",
   "version": "3.10.18"
  }
 },
 "nbformat": 4,
 "nbformat_minor": 5
}
