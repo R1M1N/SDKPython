{
 "cells": [
  {
   "cell_type": "code",
   "execution_count": 2,
   "id": "a759a9e4",
   "metadata": {},
   "outputs": [],
   "source": [
    "api_key = \"bae97f.c2c6d941768f6673ebdbcaba85\"\n",
    "api_secret = \"eacea9bf3030999d9ef1ebbbdedcbfab5ecfcb0c762feb7505816c157e27dd7b\"\n",
    "client_id = \"13849\"\n",
    "project_id = 'inessa_yummy_bedbug_15490'\n",
    "# choose scope from SCOPE_LIST=['project','client','public']\n",
    "scope = 'client'"
   ]
  },
  {
   "cell_type": "markdown",
   "id": "83a64ed7",
   "metadata": {},
   "source": [
    "# Retrieving All Datasets"
   ]
  },
  {
   "cell_type": "code",
   "execution_count": 3,
   "id": "75fba985",
   "metadata": {},
   "outputs": [
    {
     "name": "stdout",
     "output_type": "stream",
     "text": [
      "Found 10 linked datasets:\n",
      "- Dataset ID: 86d5042d-c44b-4901-9c8e-f15a4d64cbd9\n",
      "  Name: New_dataset\n",
      "  Description: A sample dataset for image classification\n",
      "- Dataset ID: 7cf1c0a5-be2e-4d4f-84a9-204d26cb0202\n",
      "  Name: New_dataset\n",
      "  Description: A sample dataset for image classification\n",
      "- Dataset ID: a4f90a19-5786-4646-b57d-2441a9f29d84\n",
      "  Name: New_dataset\n",
      "  Description: A sample dataset for image classification\n",
      "- Dataset ID: 2afb231a-e64c-4827-ad46-bc704982a36b\n",
      "  Name: New_dataset\n",
      "  Description: A sample dataset for image classification\n",
      "- Dataset ID: c7eb0910-7fea-443d-8079-c3897e656fc2\n",
      "  Name: New_dataset\n",
      "  Description: A sample dataset for image classification\n",
      "- Dataset ID: bbd46149-a851-4fc4-96bc-5f61c5a0b7a7\n",
      "  Name: New_dataset\n",
      "  Description: A sample dataset for image classification\n",
      "- Dataset ID: 3d558376-daf2-4503-8bec-1eb0c2ba10a1\n",
      "  Name: New_dataset\n",
      "  Description: A sample dataset for image classification\n",
      "- Dataset ID: 88467a7c-627f-4066-88ec-1a1c796b55d1\n",
      "  Name: New_dataset\n",
      "  Description: A sample dataset for image classification\n",
      "- Dataset ID: 51cd6a50-04c8-4d3d-8cb7-5c57f9af2ec5\n",
      "  Name: New_dataset\n",
      "  Description: A sample dataset for image classification\n",
      "- Dataset ID: b76f2bd2-b852-46ad-931c-54803b78c261\n",
      "  Name: Image Classification Project\n",
      "  Description: A sample dataset for image classification\n"
     ]
    }
   ],
   "source": [
    "from labellerr.client import LabellerrClient\n",
    "from labellerr.exceptions import LabellerrError\n",
    "# Initialize the client with your API credentials\n",
    "client = LabellerrClient(api_key, api_secret)\n",
    "client_id = client_id\n",
    "data_type = 'image'\n",
    "\n",
    "try:\n",
    "    result = client.get_all_dataset(client_id, data_type, project_id, scope)\n",
    "    # Process linked datasets\n",
    "    linked_datasets = result[\"response\"][\"datasets\"]\n",
    "    # print(linked_datasets[\"datasets\"][0][\"dataset_id\"])\n",
    "    print(f\"Found {len(linked_datasets)} linked datasets:\")\n",
    "    for dataset in linked_datasets:\n",
    "        # print(dataset[\"datasets\"])\n",
    "        print(f\"- Dataset ID: {dataset.get('dataset_id')}\")\n",
    "        print(f\"  Name: {dataset.get('name')}\")\n",
    "        print(f\"  Description: {dataset.get('description')}\")\n",
    "\n",
    "except LabellerrError as e:\n",
    "    print(f\"Failed to retrieve datasets: {str(e)}\")"
   ]
  },
  {
   "cell_type": "markdown",
   "id": "a5135ce1",
   "metadata": {},
   "source": [
    "# Retrieving All Projects for a Client\n",
    "\n",
    "Navigate to the get_all_project_per_client_id function and comment the print statement"
   ]
  },
  {
   "cell_type": "code",
   "execution_count": 4,
   "id": "23a02466",
   "metadata": {},
   "outputs": [
    {
     "name": "stdout",
     "output_type": "stream",
     "text": [
      "Found 2 projects:\n",
      "- Project ID: inessa_yummy_bedbug_15490\n",
      "  Name: vehicle-identification\n",
      "  Type: image\n",
      "- Project ID: shayna_meaningful_skunk_39599\n",
      "  Name: Detect-Seg-Vehicles\n",
      "  Type: image\n"
     ]
    }
   ],
   "source": [
    "from labellerr.client import LabellerrClient\n",
    "from labellerr.exceptions import LabellerrError\n",
    "# Initialize the client with your API credentials\n",
    "client = LabellerrClient(api_key, api_secret)\n",
    "client_id = client_id\n",
    "try:\n",
    "    result = client.get_all_project_per_client_id(client_id)\n",
    "  \n",
    "    # Check if projects were retrieved successfully\n",
    "    if result and 'response' in result:\n",
    "        projects = result['response']\n",
    "        print(f\"Found {len(projects)} projects:\")\n",
    "        for project in projects:\n",
    "            print(f\"- Project ID: {project.get('project_id')}\")\n",
    "            print(f\"  Name: {project.get('project_name')}\")\n",
    "            print(f\"  Type: {project.get('data_type')}\")\n",
    "except LabellerrError as e:\n",
    "    print(f\"Failed to retrieve projects: {str(e)}\")"
   ]
  },
  {
   "cell_type": "markdown",
   "id": "598e875b",
   "metadata": {},
   "source": [
    "# Local Export\n",
    "Replaced the result['response']['report_id']"
   ]
  },
  {
   "cell_type": "code",
   "execution_count": 4,
   "id": "bb35790a",
   "metadata": {},
   "outputs": [
    {
     "name": "stdout",
     "output_type": "stream",
     "text": [
      "Local export created successfully. Export ID: Qvwu2OjxKr4CwWihW2HM\n"
     ]
    }
   ],
   "source": [
    "from labellerr.client import LabellerrClient\n",
    "from labellerr.exceptions import LabellerrError\n",
    "# Initialize the client with your API credentials\n",
    "client = LabellerrClient(api_key, api_secret)\n",
    "project_id = project_id\n",
    "client_id = client_id\n",
    "export_config = {\n",
    "    \"export_name\": \"Weekly Export\",\n",
    "    \"export_description\": \"Export of all accepted annotations\",\n",
    "    \"export_format\": \"coco_json\",\n",
    "    \"statuses\": ['review', 'r_assigned','client_review', 'cr_assigned','accepted']\n",
    "}\n",
    "try:\n",
    "    result = client.create_local_export(project_id, client_id, export_config)\n",
    "    print(f\"Local export created successfully. Export ID: {result['response']['report_id']}\")\n",
    "except LabellerrError as e:\n",
    "    print(f\"Local export creation failed: {str(e)}\")"
   ]
  },
  {
   "cell_type": "markdown",
   "id": "4982672c",
   "metadata": {},
   "source": [
    "# Creating Project\n",
    "Updated the two functions create_project and intialize project"
   ]
  },
  {
   "cell_type": "code",
   "execution_count": 15,
   "id": "a1bd1fa5",
   "metadata": {},
   "outputs": [
    {
     "name": "stdout",
     "output_type": "stream",
     "text": [
      "Rotation configuration validated . . .\n",
      "Creating dataset . . .\n",
      "Total file count: 45\n",
      "Total file size: 2.1 MB\n",
      "CPU count 32  Batch Count 1\n"
     ]
    },
    {
     "name": "stderr",
     "output_type": "stream",
     "text": [
      "WARNING:root:Polling timed out after 60 seconds (12 attempts)\n"
     ]
    },
    {
     "name": "stdout",
     "output_type": "stream",
     "text": [
      "Dataset created and ready for use\n",
      "Annotation guidelines created\n",
      "Project created successfully. Project ID: alysia_used_ocelot_87865\n"
     ]
    }
   ],
   "source": [
    "from labellerr.client import LabellerrClient\n",
    "from labellerr.exceptions import LabellerrError\n",
    "# Initialize the client with your API credentials\n",
    "client = LabellerrClient(api_key, api_secret)\n",
    "project_payload = {\n",
    "    'client_id': client_id,\n",
    "    'dataset_name': 'New_dataset',\n",
    "    'dataset_description': 'A sample dataset for image classification',\n",
    "    'data_type': 'image',\n",
    "    'created_by': api_key,\n",
    "    'project_name': 'Image Classification Project',\n",
    "    'annotation_guide': [\n",
    "        {\n",
    "            \"question_number\": 1,\n",
    "            \"question\": \"What is the main object in the image?\",\n",
    "            \"question_id\": \"533bb0c8-fb2b-4394-a8e1-5042a944802f\",\n",
    "            \"option_type\": \"dropdown\",\n",
    "            \"required\": True,\n",
    "            \"options\": [\n",
    "                {\"option_name\": \"Car\"},\n",
    "                {\"option_name\": \"Building\"},\n",
    "                {\"option_name\": \"Person\"}\n",
    "            ]\n",
    "        }\n",
    "    ],\n",
    "    'rotation_config': {\n",
    "        'annotation_rotation_count': 1,\n",
    "        'review_rotation_count': 1,\n",
    "        'client_review_rotation_count': 1\n",
    "    },\n",
    "    'autolabel': False,\n",
    "    'folder_to_upload': '/home/siya/testing/SDKPython/downloaded_images'\n",
    "}\n",
    "try:\n",
    "    result = client.initiate_create_project(project_payload)\n",
    "    print(f\"Project created successfully. Project ID: {result['project_id']['response']['project_id']}\")\n",
    "except LabellerrError as e:\n",
    "    print(f\"Project creation failed: {str(e)}\")"
   ]
  },
  {
   "cell_type": "markdown",
   "id": "ae355244",
   "metadata": {},
   "source": [
    "# Using Preannotations"
   ]
  },
  {
   "cell_type": "code",
   "execution_count": 6,
   "id": "92a862f4",
   "metadata": {},
   "outputs": [
    {
     "name": "stdout",
     "output_type": "stream",
     "text": [
      "response_data --  {'message': '200: Success', 'response': {'job_id': '30ed067e-9ba0-4d35-8a4d-cd4370f3d06c'}, 'error': None}\n",
      "Preannotation upload successful. Job ID: 30ed067e-9ba0-4d35-8a4d-cd4370f3d06c\n",
      "retrying after 5 seconds . . .\n",
      "retrying after 5 seconds . . .\n",
      "retrying after 5 seconds . . .\n",
      "retrying after 5 seconds . . .\n",
      "retrying after 5 seconds . . .\n",
      "retrying after 5 seconds . . .\n",
      "retrying after 5 seconds . . .\n",
      "retrying after 5 seconds . . .\n",
      "retrying after 5 seconds . . .\n",
      "retrying after 5 seconds . . .\n",
      "retrying after 5 seconds . . .\n",
      "retrying after 5 seconds . . .\n",
      "Pre-annotations processed successfully\n",
      "metadata {'message': '200: Success', 'response': {'created_at': 1751477360547, 'project_id': 'inessa_yummy_bedbug_15490', 'job_type': 'pre-annotations', 'updated_at': 1751477428816, 'job_id': '30ed067e-9ba0-4d35-8a4d-cd4370f3d06c', 'status': 'completed', 'created_by': 'bae97f.c2c6d941768f6673ebdbcaba85', 'metadata': {'activity_id': '30ed067e-9ba0-4d35-8a4d-cd4370f3d06c', 'files_not_updated': ['local_upload/95608c51-61b9-4732-ad70-3589997195c9/car.jpg'], 'questions_ignored': []}, 'activity_id': '30ed067e-9ba0-4d35-8a4d-cd4370f3d06c'}, 'error': None}\n"
     ]
    }
   ],
   "source": [
    "from labellerr.client import LabellerrClient\n",
    "from labellerr.exceptions import LabellerrError\n",
    "# Initialize the client with your API credentials\n",
    "client = LabellerrClient(api_key, api_secret)\n",
    "project_id = project_id\n",
    "client_id = client_id\n",
    "annotation_format = 'coco_json'\n",
    "annotation_file = '/home/siya/testing/SDKPython/next-sdk.json'\n",
    "try:\n",
    "    # Upload and wait for processing to complete\n",
    "    result = client.upload_preannotation_by_project_id(project_id, client_id, annotation_format, annotation_file)\n",
    "  \n",
    "    # Check the final status\n",
    "    if result['response']['status'] == 'completed':\n",
    "        print(\"Pre-annotations processed successfully\")\n",
    "        # Access additional metadata if needed\n",
    "        metadata = result\n",
    "        print(\"metadata\",metadata)\n",
    "except LabellerrError as e:\n",
    "    print(f\"Pre-annotation upload failed: {str(e)}\")\n",
    "\n"
   ]
  },
  {
   "cell_type": "code",
   "execution_count": null,
   "id": "4287d93e",
   "metadata": {},
   "outputs": [],
   "source": []
  }
 ],
 "metadata": {
  "kernelspec": {
   "display_name": "sdk",
   "language": "python",
   "name": "python3"
  },
  "language_info": {
   "codemirror_mode": {
    "name": "ipython",
    "version": 3
   },
   "file_extension": ".py",
   "mimetype": "text/x-python",
   "name": "python",
   "nbconvert_exporter": "python",
   "pygments_lexer": "ipython3",
   "version": "3.10.18"
  }
 },
 "nbformat": 4,
 "nbformat_minor": 5
}
